{
 "cells": [
  {
   "cell_type": "code",
   "execution_count": null,
   "metadata": {},
   "outputs": [],
   "source": [
    "%pip install pandas numpy matplotlib seaborn scikit-learn\n",
    "import pandas as pd\n",
    "import numpy as np\n",
    "import sklearn\n",
    "import matplotlib.pyplot as plt\n",
    "import graphviz\n",
    "from IPython.display import display\n",
    "import seaborn"
   ]
  },
  {
   "cell_type": "markdown",
   "metadata": {},
   "source": [
    "# PREPARING THE DATASETS"
   ]
  },
  {
   "cell_type": "code",
   "execution_count": null,
   "metadata": {},
   "outputs": [],
   "source": [
    "bc_file_path = 'wdbc.data'\n",
    "\n",
    "column_names = [\n",
    "    'ID', 'Diagnosis', 'radius_mean', 'texture_mean', 'perimeter_mean', 'area_mean', 'smoothness_mean',\n",
    "    'compactness_mean', 'concavity_mean', 'concave points_mean', 'symmetry_mean', 'fractal_dimension_mean',\n",
    "    'radius_se', 'texture_se', 'perimeter_se', 'area_se', 'smoothness_se', 'compactness_se', 'concavity_se',\n",
    "    'concave points_se', 'symmetry_se', 'fractal_dimension_se', 'radius_worst', 'texture_worst',\n",
    "    'perimeter_worst', 'area_worst', 'smoothness_worst', 'compactness_worst', 'concavity_worst',\n",
    "    'concave points_worst', 'symmetry_worst', 'fractal_dimension_worst'\n",
    "]\n",
    "\n",
    "breast_cancer_df = pd.read_csv(bc_file_path, header=None, names=column_names)\n"
   ]
  },
  {
   "cell_type": "code",
   "execution_count": null,
   "metadata": {},
   "outputs": [],
   "source": [
    "feature_names = breast_cancer_df.drop(columns=['ID', 'Diagnosis']).columns.tolist()\n",
    "features = breast_cancer_df.drop(columns=['ID', 'Diagnosis']).values\n",
    "label_names = ['Benign', 'Malignant']\n",
    "labels = breast_cancer_df['Diagnosis'].map({'B': 0, 'M': 1}).values\n",
    "\n",
    "# Visualize the class distribution in the original dataset\n",
    "plt.figure(figsize=(6, 6))\n",
    "plt.pie(np.bincount(labels, minlength=2), labels=label_names, autopct='%1.1f%%', startangle=90)\n",
    "plt.title(\"Class Distribution for Original Dataset\")\n",
    "plt.axis('equal') \n",
    "plt.show()"
   ]
  },
  {
   "cell_type": "code",
   "execution_count": null,
   "metadata": {},
   "outputs": [],
   "source": [
    "split_ratio = {\n",
    "    \"40/60\": 0.6,\n",
    "    \"60/40\": 0.4,\n",
    "    \"80/20\": 0.2,\n",
    "    \"90/10\": 0.1,\n",
    "}\n",
    "breastcancer_slipt = {}\n",
    "\n",
    "# Split the dataset into training and testing sets with different ratios\n",
    "for name, test_ratio in split_ratio.items():\n",
    "    train_ratio = 1 - test_ratio\n",
    "    feature_train, feature_test, label_train, label_test = sklearn.model_selection.train_test_split(\n",
    "        features, labels, \n",
    "        test_size=test_ratio, \n",
    "        random_state=42, \n",
    "        shuffle = True, \n",
    "        stratify=labels\n",
    "    )\n",
    "    breastcancer_slipt[name] = {\n",
    "        \"feature_train\": feature_train,\n",
    "        \"feature_test\": feature_test,\n",
    "        \"label_train\": label_train,\n",
    "        \"label_test\": label_test\n",
    "    }\n"
   ]
  },
  {
   "cell_type": "code",
   "execution_count": null,
   "metadata": {},
   "outputs": [],
   "source": [
    "# Visualize the class distribution in each split\n",
    "for name, subset in breastcancer_slipt.items():\n",
    "    ct_train = np.bincount(subset[\"label_train\"], minlength=2)\n",
    "    ct_test = np.bincount(subset[\"label_test\"], minlength=2)\n",
    "    \n",
    "    fig, axes = plt.subplots(1, 2, figsize=(10, 5))\n",
    "    \n",
    "    axes[0].pie(ct_train, labels=label_names, autopct='%1.1f%%', startangle=90)\n",
    "    axes[0].set_title(f\"{name} — Training Set\")\n",
    "    axes[0].axis('equal')    \n",
    "    \n",
    "    axes[1].pie(ct_test, labels=label_names, autopct='%1.1f%%', startangle=90)\n",
    "    axes[1].set_title(f\"{name} — Test Set\")\n",
    "    axes[1].axis('equal')\n",
    "    \n",
    "    fig.suptitle(f\"Class Distribution for {name}\", fontsize=14)\n",
    "    plt.tight_layout(rect=[0, 0, 1, 0.95])\n",
    "    plt.show()\n",
    "\n"
   ]
  },
  {
   "cell_type": "markdown",
   "metadata": {},
   "source": [
    "# BUILDING THE DESICION TREE CLASSIFIERS"
   ]
  },
  {
   "cell_type": "code",
   "execution_count": null,
   "metadata": {},
   "outputs": [],
   "source": [
    "#Train a Decision Tree Classifier\n",
    "def training(feature_train, label_train, depth=None):\n",
    "    dt_classifier = sklearn.tree.DecisionTreeClassifier(\n",
    "        criterion='entropy',\n",
    "        random_state=42,\n",
    "        max_depth=depth\n",
    "    )\n",
    "    dt_classifier.fit(feature_train, label_train)\n",
    "    \n",
    "    return dt_classifier"
   ]
  },
  {
   "cell_type": "code",
   "execution_count": null,
   "metadata": {},
   "outputs": [],
   "source": [
    "#Building Decision Tree\n",
    "def building(dt_classifier, features, labels):\n",
    "    dot_data = sklearn.tree.export_graphviz(\n",
    "        dt_classifier,\n",
    "        out_file=None,\n",
    "        feature_names=features,\n",
    "        class_names=labels,\n",
    "        filled=True,\n",
    "        rounded=True,\n",
    "        special_characters=True\n",
    "    )\n",
    "    graph = graphviz.Source(dot_data)\n",
    "    return graph"
   ]
  },
  {
   "cell_type": "code",
   "execution_count": null,
   "metadata": {},
   "outputs": [],
   "source": [
    "#Training and Building Decision Tree for each split\n",
    "breastcancer_models = {}\n",
    "for name, data in breastcancer_slipt.items():\n",
    "    model = training(data[\"feature_train\"], data[\"label_train\"])\n",
    "    breastcancer_models[name] = model\n",
    "    graph = building(model, feature_names, label_names)\n",
    "\n",
    "    print(f\"Decision Tree for {name} Split\")\n",
    "    display(graph)\n",
    "    "
   ]
  },
  {
   "cell_type": "markdown",
   "metadata": {},
   "source": [
    "# CLASSIFICATION REPORT AND CONFUSION TREE"
   ]
  },
  {
   "cell_type": "code",
   "execution_count": null,
   "metadata": {},
   "outputs": [],
   "source": [
    "evaluating_results = {}\n",
    "for name, data in breastcancer_slipt.items():\n",
    "    model = breastcancer_models[name]\n",
    "    feature_test = data[\"feature_test\"]\n",
    "    true_labels = data[\"label_test\"]\n",
    "\n",
    "    predicted_labels = model.predict(feature_test)\n",
    "    accuracy = sklearn.metrics.accuracy_score(true_labels, predicted_labels)\n",
    "    report = sklearn.metrics.classification_report(true_labels, predicted_labels, target_names=label_names)\n",
    "    matrix = sklearn.metrics.confusion_matrix(true_labels, predicted_labels)\n",
    "\n",
    "    evaluating_results[name] = {\n",
    "        \"accuracy\": accuracy,\n",
    "        \"classification_report\": report,\n",
    "        \"confusion_matrix\": matrix,\n",
    "        \"true_labels\": true_labels,\n",
    "        \"predicted_labels\": predicted_labels\n",
    "    }\n",
    "\n",
    "    print(f\"\\nEvaluating split: {name}\")\n",
    "    print(\"Classification Report\")\n",
    "    print(report)\n",
    "    \n",
    "    plt.figure(figsize=(6, 4))\n",
    "    seaborn.heatmap(matrix, annot=True, fmt='d', cmap='rocket', \n",
    "                xticklabels=label_names, yticklabels=label_names,\n",
    "                linewidths=.5, linecolor='black') \n",
    "    plt.xlabel('Predicted label')\n",
    "    plt.ylabel('True label')\n",
    "    plt.title(f'Confusion Matrix for {name} Split')\n",
    "    plt.show()"
   ]
  },
  {
   "cell_type": "markdown",
   "metadata": {},
   "source": [
    "# THE DEPTH AND ACCURACY OF A DECISION TREE"
   ]
  },
  {
   "cell_type": "code",
   "execution_count": null,
   "metadata": {},
   "outputs": [],
   "source": [
    "feature_train, feature_test, label_train, label_test = sklearn.model_selection.train_test_split(\n",
    "    features, labels,\n",
    "    test_size=0.2,        \n",
    "    random_state=42,\n",
    "    shuffle = True,\n",
    "    stratify=labels       \n",
    ")\n",
    "\n",
    "max_depths = [None, 2, 3, 4, 5, 6, 7]\n",
    "accuracy_8020 = {}\n",
    "\n",
    "for depth in max_depths:\n",
    "    #training\n",
    "    dt_classifier = training(feature_train, label_train, depth)\n",
    "\n",
    "    #build decision tree\n",
    "    graph = building(dt_classifier, feature_names, label_names)\n",
    "    print(f\"\\n Decision tree với Max Depth là {depth}\")\n",
    "    display(graph)\n",
    "\n",
    "    #Calculate the accuracy\n",
    "    predicted_labels = dt_classifier.predict(feature_test)\n",
    "    accuracy = sklearn.metrics.accuracy_score(label_test, predicted_labels)\n",
    "    accuracy_8020[str(depth)] = accuracy\n",
    "    "
   ]
  },
  {
   "cell_type": "code",
   "execution_count": null,
   "metadata": {},
   "outputs": [],
   "source": [
    "#Table accuracy\n",
    "print(\"Max_depth:\\t Accuracy\")\n",
    "for name, data in accuracy_8020.items():\n",
    "    print(f\"\\n{name}: \\t\\t{data}\")"
   ]
  },
  {
   "cell_type": "code",
   "execution_count": null,
   "metadata": {},
   "outputs": [],
   "source": [
    "#Chart accuracy\n",
    "x_labels = list(accuracy_8020.keys())\n",
    "acc_values = list(accuracy_8020.values())\n",
    "\n",
    "plt.figure(figsize=(8, 6))\n",
    "plt.plot(x_labels, acc_values, marker='o', linestyle='--', color='b')\n",
    "plt.xlabel(\"max_depth\")\n",
    "plt.ylabel(\"Accuracy Score\")\n",
    "plt.title(\"Accuracy Score vs. max_depth\")\n",
    "plt.grid(True)\n",
    "plt.show()"
   ]
  }
 ],
 "metadata": {
  "kernelspec": {
   "display_name": "Python 3",
   "language": "python",
   "name": "python3"
  },
  "language_info": {
   "codemirror_mode": {
    "name": "ipython",
    "version": 3
   },
   "file_extension": ".py",
   "mimetype": "text/x-python",
   "name": "python",
   "nbconvert_exporter": "python",
   "pygments_lexer": "ipython3",
   "version": "3.12.4"
  }
 },
 "nbformat": 4,
 "nbformat_minor": 2
}
